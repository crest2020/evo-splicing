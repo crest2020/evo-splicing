{
 "cells": [
  {
   "cell_type": "code",
   "execution_count": 60,
   "metadata": {
    "collapsed": false
   },
   "outputs": [],
   "source": [
    "%matplotlib inline\n",
    "%config InlineBackend.figure_format = 'png'#'svg' would be better, but eats memory for these big plots.\n",
    "from matplotlib import pyplot as plt\n",
    "import numpy as np\n",
    "import GPy\n",
    "import sys\n",
    "import os\n",
    "import pandas as pd\n",
    "import GPclust\n",
    "import math\n",
    "os.chdir('/home/mazin/skoltech/projects/evo.devo')"
   ]
  },
  {
   "cell_type": "code",
   "execution_count": 61,
   "metadata": {
    "collapsed": false
   },
   "outputs": [
    {
     "name": "stdout",
     "output_type": "stream",
     "text": [
      "['hum_002497.s9' 'hum_002497.s21' 'hum_002575.s10' 'hum_002626.s135'\n",
      " 'hum_002630.s2' 'hum_002650.s37' 'hum_002656.s12' 'hum_002677.s12'\n",
      " 'hum_002686.s3']\n",
      "(10, 1)\n",
      "[[ 1  2  3  4  5  6  7  8  9 10]]\n",
      "(3776, 10)\n"
     ]
    }
   ],
   "source": [
    "psi = pd.read_csv('output/hmo.brain.sign.psis.noNA.tab', delimiter=\"\\t\", header=0, index_col=0)\n",
    "\n",
    "#times = np.matrix([[float(i)] for i in psi.columns.values.tolist()])\n",
    "times = np.array(range(1,11)).reshape(10,1)\n",
    "sids = psi.index.values\n",
    "psi = psi.as_matrix()\n",
    "\n",
    "\n",
    "print(sids[1:10])\n",
    "print(times.shape)\n",
    "print(times.T)\n",
    "print(psi.shape)"
   ]
  },
  {
   "cell_type": "code",
   "execution_count": 62,
   "metadata": {
    "collapsed": false
   },
   "outputs": [
    {
     "data": {
      "text/plain": [
       "[<matplotlib.lines.Line2D at 0x7fdcecaf9450>]"
      ]
     },
     "execution_count": 62,
     "metadata": {},
     "output_type": "execute_result"
    },
    {
     "data": {
      "image/png": "[encoded data removed]",
      "text/plain": [
       "<matplotlib.figure.Figure at 0x7fdcecc5ae50>"
      ]
     },
     "metadata": {},
     "output_type": "display_data"
    }
   ],
   "source": [
    "psi -= psi.mean(1)[:,np.newaxis]\n",
    "psi /= psi.std(1)[:,np.newaxis]\n",
    "plt.plot(times,psi[1,:] , 'ro')"
   ]
  },
  {
   "cell_type": "code",
   "execution_count": 63,
   "metadata": {
    "collapsed": false
   },
   "outputs": [
    {
     "name": "stdout",
     "output_type": "stream",
     "text": [
      "[[ 1]\n",
      " [ 2]\n",
      " [ 3]\n",
      " [ 4]\n",
      " [ 5]\n",
      " [ 6]\n",
      " [ 7]\n",
      " [ 8]\n",
      " [ 9]\n",
      " [10]]\n"
     ]
    }
   ],
   "source": [
    "k_underlying = GPy.kern.Matern52(input_dim=1, variance=1.0, lengthscale=7.)\n",
    "k1=GPy.kern.Matern52(input_dim=1, variance=0.1, lengthscale=7.)\n",
    "k2=GPy.kern.White(1, variance=0.3)\n",
    "#avoid under-estimating (non-structured noise)\n",
    "k2.variance.fix(0.7)\n",
    "k_corruption = k1+ k2\n",
    "print(times)"
   ]
  },
  {
   "cell_type": "code",
   "execution_count": 64,
   "metadata": {
    "collapsed": false
   },
   "outputs": [],
   "source": [
    "m = GPclust.MOHGP(times, k_underlying, k_corruption, psi, K=20, prior_Z='DP', alpha=1e-6)"
   ]
  },
  {
   "cell_type": "code",
   "execution_count": 65,
   "metadata": {
    "collapsed": false,
    "scrolled": true
   },
   "outputs": [
    {
     "name": "stderr",
     "output_type": "stream",
     "text": [
      " /home/mazin/bin/anaconda2/lib/python2.7/site-packages/IPython/html.py:14: ShimWarning:The `IPython.html` package has been deprecated. You should import from `notebook` instead. `IPython.html.widgets` has moved to `ipywidgets`.\n"
     ]
    },
    {
     "name": "stdout",
     "output_type": "stream",
     "text": [
      "('\\nattempting to split cluster ', 10)\n",
      "('split suceeded, bound changed by: ', 232.52088942664705, ',', 1, ' new clusters', '(K=21)')\n",
      "optimizing new split to convergence:\n",
      "('\\nattempting to split cluster ', 20)\n",
      "('split suceeded, bound changed by: ', 193.51217572396854, ',', 1, ' new clusters', '(K=22)')\n",
      "optimizing new split to convergence:\n",
      "('\\nattempting to split cluster ', 21)\n",
      "('split failed, bound changed by: ', 2.4655128072481602e-05, '(K=22)')\n",
      "('\\nattempting to split cluster ', 20)\n",
      "('split suceeded, bound changed by: ', 67.10562522309192, ',', 1, ' new clusters', '(K=23)')\n",
      "optimizing new split to convergence:\n",
      "('\\nattempting to split cluster ', 22)\n",
      "('split failed, bound changed by: ', 9.1338297352194786e-06, '(K=23)')\n",
      "('\\nattempting to split cluster ', 20)\n",
      "('split failed, bound changed by: ', 1.0657480743248016e-05, '(K=23)')\n",
      "('\\nattempting to split cluster ', 10)\n",
      "('split failed, bound changed by: ', 8.8035303633660078e-06, '(K=23)')\n",
      "('\\nattempting to split cluster ', 14)\n",
      "('split failed, bound changed by: ', 8.4680286818183959e-06, '(K=23)')\n",
      "('\\nattempting to split cluster ', 15)\n",
      "('split failed, bound changed by: ', 1.0253890650346875e-05, '(K=23)')\n"
     ]
    }
   ],
   "source": [
    "m.hyperparam_opt_interval = 100 # how often to optimize the hyperparameters\n",
    "m.hyperparam_opt_args['messages'] = True # turn off the printing of the optimization\n",
    "m.optimize()\n",
    "m.systematic_splits(verbose=True)"
   ]
  },
  {
   "cell_type": "code",
   "execution_count": null,
   "metadata": {
    "collapsed": true
   },
   "outputs": [],
   "source": []
  }
 ],
 "metadata": {
  "kernelspec": {
   "display_name": "Python [Root]",
   "language": "python",
   "name": "Python [Root]"
  },
  "language_info": {
   "codemirror_mode": {
    "name": "ipython",
    "version": 2
   },
   "file_extension": ".py",
   "mimetype": "text/x-python",
   "name": "python",
   "nbconvert_exporter": "python",
   "pygments_lexer": "ipython2",
   "version": "2.7.11"
  }
 },
 "nbformat": 4,
 "nbformat_minor": 0
}
